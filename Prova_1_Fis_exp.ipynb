{
  "nbformat": 4,
  "nbformat_minor": 0,
  "metadata": {
    "colab": {
      "name": "Prova 1 Fis exp.ipynb",
      "provenance": [],
      "collapsed_sections": [
        "v5Gp08czfVrb",
        "I6xRiyfvp-lC"
      ],
      "toc_visible": true,
      "include_colab_link": true
    },
    "kernelspec": {
      "name": "python3",
      "display_name": "Python 3"
    }
  },
  "cells": [
    {
      "cell_type": "markdown",
      "metadata": {
        "id": "view-in-github",
        "colab_type": "text"
      },
      "source": [
        "<a href=\"https://colab.research.google.com/github/pedroigosl/ICA-IFCE-2020.2/blob/main/Prova_1_Fis_exp.ipynb\" target=\"_parent\"><img src=\"https://colab.research.google.com/assets/colab-badge.svg\" alt=\"Open In Colab\"/></a>"
      ]
    },
    {
      "cell_type": "markdown",
      "metadata": {
        "id": "v5Gp08czfVrb"
      },
      "source": [
        "# Auxiliary Code"
      ]
    },
    {
      "cell_type": "code",
      "metadata": {
        "id": "EXfFr4pk2P_Y"
      },
      "source": [
        "import numpy as np\n",
        "import matplotlib.pyplot as plt # Plotter\n",
        "from sklearn.metrics import r2_score # R² Score function\n",
        "from sklearn.linear_model import LinearRegression # Linear regression sublib"
      ],
      "execution_count": null,
      "outputs": []
    },
    {
      "cell_type": "code",
      "metadata": {
        "id": "KXwF39A0fXBR"
      },
      "source": [
        "# Mean absolute Error\n",
        "\n",
        "def mean_absolute_error (true_val, est_val):\n",
        "  tup = zip(true_val, est_val)\n",
        "  sum = 0\n",
        "  for a, b in tup:\n",
        "    sum = sum + abs(a - b)\n",
        "  return sum/len(true_val)\n",
        "\n",
        "    "
      ],
      "execution_count": null,
      "outputs": []
    },
    {
      "cell_type": "markdown",
      "metadata": {
        "id": "00KyQQ2AcAx6"
      },
      "source": [
        "# Questão 1"
      ]
    },
    {
      "cell_type": "code",
      "metadata": {
        "colab": {
          "base_uri": "https://localhost:8080/"
        },
        "id": "00JK8uHyb6NW",
        "outputId": "6a862cd7-60bd-4976-895a-73bc5808cdcb"
      },
      "source": [
        "measurements = np.array([2.15, 2.17, 2.18, 2.13, 2.14, 2.12, 2.18])\n",
        "\n",
        "mean =  round(measurements.mean(), ndigits = 2)\n",
        "\n",
        "# Necessary for coding reasons\n",
        "mean_list = []\n",
        "for i in range(0, len(measurements)):\n",
        "  mean_list.append(mean)\n",
        "\n",
        "mean_error = round(mean_absolute_error(measurements, mean_list), ndigits = 2)\n",
        "\n",
        "print(\"Mean Value: \", mean)\n",
        "print(\"\\nMean Error: \", mean_error)"
      ],
      "execution_count": null,
      "outputs": [
        {
          "output_type": "stream",
          "text": [
            "Mean Value:  2.15\n",
            "\n",
            "Mean Error:  0.02\n"
          ],
          "name": "stdout"
        }
      ]
    },
    {
      "cell_type": "markdown",
      "metadata": {
        "id": "mFIySUUpr2PQ"
      },
      "source": [
        "**Solução:** \n",
        "\n",
        "Temos o valor médio $\\bar{m} = 2,15$ e erro médio $\\bar{\\delta} = 0,02$\n",
        "\n",
        "Portanto, a expressão será $S = 2,15 \\pm 0,02$"
      ]
    },
    {
      "cell_type": "markdown",
      "metadata": {
        "id": "_KfFd1QEuUoN"
      },
      "source": [
        "#Questão 2"
      ]
    },
    {
      "cell_type": "code",
      "metadata": {
        "colab": {
          "base_uri": "https://localhost:8080/"
        },
        "id": "i9lKLEAsuVFz",
        "outputId": "dd5ba14b-5565-4643-9876-319d095a950e"
      },
      "source": [
        "abs_error = abs(7.55 - 7.69)\n",
        "rel_error = round(abs_error/7.69, ndigits = 2)\n",
        "\n",
        "print(\"Relative error: \",rel_error*100, \"%\")"
      ],
      "execution_count": null,
      "outputs": [
        {
          "output_type": "stream",
          "text": [
            "Relative error:  2.0 %\n"
          ],
          "name": "stdout"
        }
      ]
    },
    {
      "cell_type": "markdown",
      "metadata": {
        "id": "6VaO2tsa0SK3"
      },
      "source": [
        "**Solução:**\n",
        "\n",
        "O erro relativo é de 2%"
      ]
    },
    {
      "cell_type": "markdown",
      "metadata": {
        "id": "0tilggQx0Oia"
      },
      "source": [
        "#Questão 3"
      ]
    },
    {
      "cell_type": "markdown",
      "metadata": {
        "id": "zQZehxfU0mXM"
      },
      "source": [
        "**Solução:**\n",
        "\n",
        "a) Régua - 0,5 milímetros\n",
        "\n",
        "b) Amperímetro - 1 Ampère\n",
        "\n",
        "c) Dinamômetro - 5 Newtons\n",
        "\n",
        "d) Voltímetro - 0,3 Volts\n",
        "\n",
        "OBS: Algarismos significativos reduzidos para manter desvio com apenas um algarismo"
      ]
    },
    {
      "cell_type": "markdown",
      "metadata": {
        "id": "WnrBoEA30l3p"
      },
      "source": [
        "#Questão 4"
      ]
    },
    {
      "cell_type": "markdown",
      "metadata": {
        "id": "JbkywJwTKHPA"
      },
      "source": [
        "**Solução:**\n",
        "\n",
        "a) $S = 3 \\pm 1A$\n",
        "\n",
        ">OBS: Assumi que fosse um typo e estivesse na verdade entre o 2 e o 4, já que a escala do amperímetro é de 2 em 2\n",
        "\n",
        "b) $S = 50 \\pm 5N$\n",
        "\n",
        "c) $S = 7,8 \\pm 0,3V$\n",
        "\n",
        "d) $S = 23,40 \\pm 0,05cm$\n",
        "\n",
        "OBS: Algarismos significativos reduzidos para manter desvio com apenas um algarismo"
      ]
    },
    {
      "cell_type": "markdown",
      "metadata": {
        "id": "LnoIzhxtK5_v"
      },
      "source": [
        "#Questão 5"
      ]
    },
    {
      "cell_type": "markdown",
      "metadata": {
        "id": "N3oElV06MTgX"
      },
      "source": [
        "**Solução:**\n",
        "\n",
        "a) $M = 32,8 \\pm 0,3g$\n",
        "\n",
        "b) $M = 72 \\pm 2cm$\n",
        "\n",
        "c) $M = 4,19 \\pm 0,02g$\n",
        "\n",
        "d) $M = 12.300 \\pm 300m = (123 \\pm 3) \\times 10^2m$\n",
        "\n",
        "e) $M = 82.370 \\pm 30h = (8.237 \\pm 3) \\times 10h$\n",
        "\n",
        "OBS: Algarismos significativos reduzidos para manter desvio com apenas um algarismo"
      ]
    },
    {
      "cell_type": "markdown",
      "metadata": {
        "id": "8YrhCKIaPEzN"
      },
      "source": [
        "#Questão 6"
      ]
    },
    {
      "cell_type": "markdown",
      "metadata": {
        "id": "8OIVKvSXPG_v"
      },
      "source": [
        "**Solução:**\n",
        "\n",
        "a) $S = (324,6 \\pm 0,2) + (12,9 \\pm 0) = 337,5 \\pm 0,2$\n",
        "\n",
        "b) $S = (0,91 \\pm 0,02) - (0,42 \\pm 0,01) = 0,49 \\pm 0,03$\n",
        "\n",
        "c) $S = (632 \\pm 2) + (86 \\pm 1) = 718 \\pm 3$\n",
        "\n",
        "d) $S = (31 \\pm 2) \\times (2 \\pm 0) = 62 \\pm 0$\n",
        "\n",
        "e) $S = (118,2 \\pm 0,7) / (23,6 \\pm 0,3) = 5,00 \\pm 0,02$\n",
        "\n",
        "f) $S = (124 \\pm 7) / [(36 \\pm 4) \\times (84 \\pm 1)] = 0,0 \\pm 0,2$\n",
        "\n",
        "g) $S = (7,2 \\pm 0,2) \\times (7,2 \\pm 0,2) \\times (7,2 \\pm 0,2) = 373,2 \\pm 0,1$\n",
        "\n",
        "OBS: adicionada uma casa decimal ao desvio em alguns itens como dito que podia, caso contrário as medidas seriam tão pequenas que $\\delta = 0$"
      ]
    },
    {
      "cell_type": "markdown",
      "metadata": {
        "id": "-lIaqS5kR50x"
      },
      "source": [
        "#Questão 7"
      ]
    },
    {
      "cell_type": "markdown",
      "metadata": {
        "id": "cceGfRCqgkpD"
      },
      "source": [
        "**Solução:**\n",
        "\n",
        "Perímetro: $(4,12 \\pm  0,05) + (4,12 \\pm  0,05) + (3,2 \\pm 0,1) + (3,2 \\pm 0,1) = (4,1 \\pm  0,1) + (4,1 \\pm  0,1) + (3,2 \\pm 0,1) + (3,2 \\pm 0,1) = (14,6 \\pm 0,4) cm$\n",
        "\n",
        "Área: $(4,12 \\pm  0,05) \\times (3,2 \\pm 0,1) = (4,1 \\pm  0,1) \\times (3,2 \\pm 0,1) = (13,1 \\pm 0,1)cm^2$"
      ]
    },
    {
      "cell_type": "markdown",
      "metadata": {
        "id": "XeToJ5HcONlu"
      },
      "source": [
        "#Questão 8"
      ]
    },
    {
      "cell_type": "code",
      "metadata": {
        "id": "kJd7jp4o3Yr9",
        "colab": {
          "base_uri": "https://localhost:8080/",
          "height": 316
        },
        "outputId": "a9facb70-1137-4bee-fbcd-fe7519286f2e"
      },
      "source": [
        "time = np.array([1, 2, 3, 4, 5, 6])\n",
        "force = np.array([44, 82, 120, 158, 190, 234])\n",
        "\n",
        "regression = LinearRegression()\n",
        "\n",
        "regression.fit(time.reshape(-1,1), force)\n",
        " \n",
        "# extracting coeficients\n",
        "slope = regression.coef_  # Determines line inclining (tangent of the angle)\n",
        "intercept = regression.intercept_ # Determines line offset from x axis\n",
        "\n",
        "plt.scatter(time, force) # Showing original data spread\n",
        "plt.plot(time, (time * slope + intercept), color='r') # Showing linear regression\n",
        " \n",
        "plt.show()\n",
        "\n",
        "f_ideal = [(t * slope + intercept) for t in time] # Line equation\n",
        "r2 =  r2_score(force, f_ideal)  # R² calculation\n",
        "\n",
        "print (\"Slope: \", slope[0])\n",
        "print (\"Intercept: \", intercept)\n",
        "print (\"R² Score: \", r2)"
      ],
      "execution_count": null,
      "outputs": [
        {
          "output_type": "display_data",
          "data": {
            "image/png": "[encoded data removed]",
            "text/plain": [
              "<Figure size 432x288 with 1 Axes>"
            ]
          },
          "metadata": {
            "tags": [],
            "needs_background": "light"
          }
        },
        {
          "output_type": "stream",
          "text": [
            "Slope:  37.485714285714295\n",
            "Intercept:  6.7999999999999545\n",
            "R² Score:  0.9989693114814987\n"
          ],
          "name": "stdout"
        }
      ]
    },
    {
      "cell_type": "markdown",
      "metadata": {
        "id": "4acZBfDMPYTj"
      },
      "source": [
        "**Solução:**\n",
        "\n",
        "A função linear ajustada será:\n",
        "\n",
        "$F = 37.485714285714295 \\times t + 6.7999999999999545$\n",
        "\n",
        "A qualidade $R^2$ é de $0.9989693114814987$"
      ]
    },
    {
      "cell_type": "markdown",
      "metadata": {
        "id": "I6xRiyfvp-lC"
      },
      "source": [
        "#Draft"
      ]
    },
    {
      "cell_type": "code",
      "metadata": {
        "id": "2u_owrAhqB18"
      },
      "source": [
        "\n",
        "  tup = np.array(list(map(list,zip(true_val, est_val))))\n",
        "  #sum = 0\n",
        "  print (tup)\n",
        "  print(abs(tup[:,0] - tup[:, 1]))\n",
        "  "
      ],
      "execution_count": null,
      "outputs": []
    }
  ]
}